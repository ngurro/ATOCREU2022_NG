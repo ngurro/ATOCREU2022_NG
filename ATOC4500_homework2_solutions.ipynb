{
 "cells": [
  {
   "cell_type": "markdown",
   "metadata": {
    "id": "igX6JYev4ANE"
   },
   "source": [
    "###**ATOC4500 Data Science Lab: Homework #2 - SOLUTIONS**\n",
    "###last updated: February 21, 2022, Written By: Prof. Jennifer Kay (Jennifer.E.Kay@colorado.edu)\n",
    "\n",
    "**>>>> NOTE: Please run this and other notebooks using a Chrome browser**\n",
    "\n",
    "LEARNING GOALS:\n",
    "1) Use Google Colab and Python to apply data science methods: read in data, make line plots and histograms, do computations\n",
    "2) Compute statistical indices of data using a function\n",
    "3) Compare the data distribution to a normal distribution: Q-Q plot\n",
    "4) Compute confidence intervals using z-statistic and t-statistic"
   ]
  },
  {
   "cell_type": "markdown",
   "metadata": {
    "id": "caZNy3Wc4aPE"
   },
   "source": [
    "**STEP 1: Import functions we need**"
   ]
  },
  {
   "cell_type": "code",
   "execution_count": 3,
   "metadata": {
    "id": "0HeuEzmF37g7"
   },
   "outputs": [],
   "source": [
    "import datetime\n",
    "import io\n",
    "import matplotlib.pyplot as plt\n",
    "import numpy as np\n",
    "import pandas as pd\n",
    "from sklearn.linear_model import LinearRegression \n",
    "#from scipy.stats import norm\n",
    "import scipy.stats as stats\n",
    "from scipy import integrate\n",
    "\n",
    "#from google.colab import files"
   ]
  },
  {
   "cell_type": "markdown",
   "metadata": {
    "id": "QvZzDNS_4eBS"
   },
   "source": [
    "**STEP 2: Upload the data we want to perform calculations on**\n",
    "Here, the data we will use will be very similar to Application Lab #1.\n",
    "The only difference is that instead of the global mean temperature,\n",
    "we will work with the Arctic mean temperature (60-90 N).\n",
    "Because there are very few Arctic temperature measurements before 1950,\n",
    "we will not work with data from before 1950.\n",
    "\n",
    "** The data file storing global mean surface temperature anomalies is called aravg.mon.land_ocean.60N.90N.v5.0.0.202112.asc.  It is available on Canvas. You should save it on your laptop, preferably on your google drive.  You will upload the data in the next cell**\n",
    "\n",
    "For reference: This file can be found at https://www.ncei.noaa.gov/data/noaa-global-surface-temperature/v5/access/timeseries/ and is described at https://www.ncei.noaa.gov/products/land-based-station/noaa-global-temp\n",
    "\n",
    "**NOTES on the data**: \n",
    "*   anomalies are based on 1971-2000 average.  recall: anomalies = difference from the long-term average\n",
    "*   monthly data starts in January 1880\n",
    "*   from the README file (00_Readme_timeseries.txt) we see that we need the first 3 columns for the monthly data (file name: aravg.mon.*): 1st column = year, 2nd column = month, 3rd column = anomaly of temperature (K)"
   ]
  },
  {
   "cell_type": "code",
   "execution_count": 2,
   "metadata": {
    "colab": {
     "base_uri": "https://localhost:8080/",
     "height": 90,
     "resources": {
      "http://localhost:8080/nbextensions/google.colab/files.js": {
       "data": "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",
       "headers": [
        [
         "content-type",
         "application/javascript"
        ]
       ],
       "ok": true,
       "status": 200,
       "status_text": ""
      }
     }
    },
    "id": "jLvFpltV4Kza",
    "outputId": "56ffc83a-2480-42de-e558-6c19fc319590"
   },
   "outputs": [
    {
     "data": {
      "text/html": [
       "\n",
       "     <input type=\"file\" id=\"files-90a92f17-4671-40d8-980c-e214a716cf4e\" name=\"files[]\" multiple disabled\n",
       "        style=\"border:none\" />\n",
       "     <output id=\"result-90a92f17-4671-40d8-980c-e214a716cf4e\">\n",
       "      Upload widget is only available when the cell has been executed in the\n",
       "      current browser session. Please rerun this cell to enable.\n",
       "      </output>\n",
       "      <script src=\"/nbextensions/google.colab/files.js\"></script> "
      ],
      "text/plain": [
       "<IPython.core.display.HTML object>"
      ]
     },
     "metadata": {},
     "output_type": "display_data"
    },
    {
     "name": "stdout",
     "output_type": "stream",
     "text": [
      "Saving aravg.mon.land_ocean.60N.90N.v5.0.0.202112.asc to aravg.mon.land_ocean.60N.90N.v5.0.0.202112.asc\n",
      "User uploaded file \"aravg.mon.land_ocean.60N.90N.v5.0.0.202112.asc\" with length 177216 bytes\n"
     ]
    }
   ],
   "source": [
    "# PLEASE MAKE SURE YOU ARE USING GOOGLE CHROME as your browser, otherwise it may not load the file\n",
    "# click on \"Choose Files\" to upload aravg.mon.land_ocean.60N.90N.v5.0.0.202112.asc\n",
    "uploaded = files.upload()\n",
    "\n",
    "for fn in uploaded.keys():\n",
    "  print('User uploaded file \"{name}\" with length {length} bytes'.format(name=fn, length=len(uploaded[fn])))"
   ]
  },
  {
   "cell_type": "markdown",
   "metadata": {
    "id": "Sviv_EAY5CfB"
   },
   "source": [
    "**STEP 3: SELECT and LOOK AT YOUR DATA by PRINTING OUT information about the data frame (d)**"
   ]
  },
  {
   "cell_type": "code",
   "execution_count": 12,
   "metadata": {},
   "outputs": [
    {
     "data": {
      "text/html": [
       "<div>\n",
       "<style scoped>\n",
       "    .dataframe tbody tr th:only-of-type {\n",
       "        vertical-align: middle;\n",
       "    }\n",
       "\n",
       "    .dataframe tbody tr th {\n",
       "        vertical-align: top;\n",
       "    }\n",
       "\n",
       "    .dataframe thead th {\n",
       "        text-align: right;\n",
       "    }\n",
       "</style>\n",
       "<table border=\"1\" class=\"dataframe\">\n",
       "  <thead>\n",
       "    <tr style=\"text-align: right;\">\n",
       "      <th></th>\n",
       "      <th>year</th>\n",
       "      <th>month</th>\n",
       "      <th>T_anomaly</th>\n",
       "      <th>a</th>\n",
       "      <th>b</th>\n",
       "      <th>c</th>\n",
       "      <th>d</th>\n",
       "      <th>e</th>\n",
       "      <th>f</th>\n",
       "      <th>g</th>\n",
       "    </tr>\n",
       "  </thead>\n",
       "  <tbody>\n",
       "    <tr>\n",
       "      <th>0</th>\n",
       "      <td>1880</td>\n",
       "      <td>1</td>\n",
       "      <td>-0.267646</td>\n",
       "      <td>0.301149</td>\n",
       "      <td>0.294586</td>\n",
       "      <td>0.001988</td>\n",
       "      <td>0.004575</td>\n",
       "      <td>1.350910</td>\n",
       "      <td>0.876669</td>\n",
       "      <td>0.474241</td>\n",
       "    </tr>\n",
       "    <tr>\n",
       "      <th>1</th>\n",
       "      <td>1880</td>\n",
       "      <td>2</td>\n",
       "      <td>0.047482</td>\n",
       "      <td>0.035006</td>\n",
       "      <td>0.028443</td>\n",
       "      <td>0.001988</td>\n",
       "      <td>0.004575</td>\n",
       "      <td>1.273497</td>\n",
       "      <td>0.764716</td>\n",
       "      <td>0.508781</td>\n",
       "    </tr>\n",
       "    <tr>\n",
       "      <th>2</th>\n",
       "      <td>1880</td>\n",
       "      <td>3</td>\n",
       "      <td>-0.375098</td>\n",
       "      <td>0.006971</td>\n",
       "      <td>0.000225</td>\n",
       "      <td>0.001988</td>\n",
       "      <td>0.004758</td>\n",
       "      <td>0.847723</td>\n",
       "      <td>0.549500</td>\n",
       "      <td>0.298223</td>\n",
       "    </tr>\n",
       "    <tr>\n",
       "      <th>3</th>\n",
       "      <td>1880</td>\n",
       "      <td>4</td>\n",
       "      <td>-0.278556</td>\n",
       "      <td>0.056644</td>\n",
       "      <td>0.049765</td>\n",
       "      <td>0.001988</td>\n",
       "      <td>0.004892</td>\n",
       "      <td>0.895149</td>\n",
       "      <td>0.646301</td>\n",
       "      <td>0.248849</td>\n",
       "    </tr>\n",
       "    <tr>\n",
       "      <th>4</th>\n",
       "      <td>1880</td>\n",
       "      <td>5</td>\n",
       "      <td>-0.307136</td>\n",
       "      <td>0.008880</td>\n",
       "      <td>0.001969</td>\n",
       "      <td>0.001988</td>\n",
       "      <td>0.004923</td>\n",
       "      <td>0.509163</td>\n",
       "      <td>0.484510</td>\n",
       "      <td>0.024653</td>\n",
       "    </tr>\n",
       "    <tr>\n",
       "      <th>...</th>\n",
       "      <td>...</td>\n",
       "      <td>...</td>\n",
       "      <td>...</td>\n",
       "      <td>...</td>\n",
       "      <td>...</td>\n",
       "      <td>...</td>\n",
       "      <td>...</td>\n",
       "      <td>...</td>\n",
       "      <td>...</td>\n",
       "      <td>...</td>\n",
       "    </tr>\n",
       "    <tr>\n",
       "      <th>1699</th>\n",
       "      <td>2021</td>\n",
       "      <td>8</td>\n",
       "      <td>1.273642</td>\n",
       "      <td>0.023480</td>\n",
       "      <td>0.021551</td>\n",
       "      <td>0.000064</td>\n",
       "      <td>0.001865</td>\n",
       "      <td>0.366534</td>\n",
       "      <td>0.250041</td>\n",
       "      <td>0.116493</td>\n",
       "    </tr>\n",
       "    <tr>\n",
       "      <th>1700</th>\n",
       "      <td>2021</td>\n",
       "      <td>9</td>\n",
       "      <td>0.773326</td>\n",
       "      <td>0.007860</td>\n",
       "      <td>0.005479</td>\n",
       "      <td>0.000064</td>\n",
       "      <td>0.002317</td>\n",
       "      <td>0.436454</td>\n",
       "      <td>0.392100</td>\n",
       "      <td>0.044355</td>\n",
       "    </tr>\n",
       "    <tr>\n",
       "      <th>1701</th>\n",
       "      <td>2021</td>\n",
       "      <td>10</td>\n",
       "      <td>2.157356</td>\n",
       "      <td>0.066049</td>\n",
       "      <td>0.063939</td>\n",
       "      <td>0.000064</td>\n",
       "      <td>0.002046</td>\n",
       "      <td>0.623070</td>\n",
       "      <td>0.304008</td>\n",
       "      <td>0.319062</td>\n",
       "    </tr>\n",
       "    <tr>\n",
       "      <th>1702</th>\n",
       "      <td>2021</td>\n",
       "      <td>11</td>\n",
       "      <td>1.730800</td>\n",
       "      <td>0.149071</td>\n",
       "      <td>0.147338</td>\n",
       "      <td>0.000064</td>\n",
       "      <td>0.001669</td>\n",
       "      <td>0.977138</td>\n",
       "      <td>0.514834</td>\n",
       "      <td>0.462304</td>\n",
       "    </tr>\n",
       "    <tr>\n",
       "      <th>1703</th>\n",
       "      <td>2021</td>\n",
       "      <td>12</td>\n",
       "      <td>0.358519</td>\n",
       "      <td>0.009274</td>\n",
       "      <td>0.007609</td>\n",
       "      <td>0.000064</td>\n",
       "      <td>0.001601</td>\n",
       "      <td>0.724324</td>\n",
       "      <td>0.709458</td>\n",
       "      <td>0.015000</td>\n",
       "    </tr>\n",
       "  </tbody>\n",
       "</table>\n",
       "<p>1704 rows × 10 columns</p>\n",
       "</div>"
      ],
      "text/plain": [
       "      year  month  T_anomaly         a         b         c         d  \\\n",
       "0     1880      1  -0.267646  0.301149  0.294586  0.001988  0.004575   \n",
       "1     1880      2   0.047482  0.035006  0.028443  0.001988  0.004575   \n",
       "2     1880      3  -0.375098  0.006971  0.000225  0.001988  0.004758   \n",
       "3     1880      4  -0.278556  0.056644  0.049765  0.001988  0.004892   \n",
       "4     1880      5  -0.307136  0.008880  0.001969  0.001988  0.004923   \n",
       "...    ...    ...        ...       ...       ...       ...       ...   \n",
       "1699  2021      8   1.273642  0.023480  0.021551  0.000064  0.001865   \n",
       "1700  2021      9   0.773326  0.007860  0.005479  0.000064  0.002317   \n",
       "1701  2021     10   2.157356  0.066049  0.063939  0.000064  0.002046   \n",
       "1702  2021     11   1.730800  0.149071  0.147338  0.000064  0.001669   \n",
       "1703  2021     12   0.358519  0.009274  0.007609  0.000064  0.001601   \n",
       "\n",
       "             e         f         g  \n",
       "0     1.350910  0.876669  0.474241  \n",
       "1     1.273497  0.764716  0.508781  \n",
       "2     0.847723  0.549500  0.298223  \n",
       "3     0.895149  0.646301  0.248849  \n",
       "4     0.509163  0.484510  0.024653  \n",
       "...        ...       ...       ...  \n",
       "1699  0.366534  0.250041  0.116493  \n",
       "1700  0.436454  0.392100  0.044355  \n",
       "1701  0.623070  0.304008  0.319062  \n",
       "1702  0.977138  0.514834  0.462304  \n",
       "1703  0.724324  0.709458  0.015000  \n",
       "\n",
       "[1704 rows x 10 columns]"
      ]
     },
     "execution_count": 12,
     "metadata": {},
     "output_type": "execute_result"
    }
   ],
   "source": [
    "df = pd.read_table('aravg.mon.land_ocean.60N.90N.v5.0.0.202112.asc',delim_whitespace=True,\n",
    "              header=None,names=['year','month','T_anomaly','a','b','c','d','e','f','g'])\n",
    "df"
   ]
  },
  {
   "cell_type": "code",
   "execution_count": 11,
   "metadata": {},
   "outputs": [
    {
     "data": {
      "text/plain": [
       "[<matplotlib.lines.Line2D at 0x7f9636f3a670>]"
      ]
     },
     "execution_count": 11,
     "metadata": {},
     "output_type": "execute_result"
    },
    {
     "data": {
      "image/png": "[encoded data removed]",
      "text/plain": [
       "<Figure size 432x288 with 1 Axes>"
      ]
     },
     "metadata": {
      "needs_background": "light"
     },
     "output_type": "display_data"
    }
   ],
   "source": [
    "plt.plot(df['T_anomaly'])"
   ]
  },
  {
   "cell_type": "code",
   "execution_count": 3,
   "metadata": {
    "colab": {
     "base_uri": "https://localhost:8080/",
     "height": 424
    },
    "id": "02GDAy8M5Ruj",
    "outputId": "25d91d73-ccf8-4615-adb0-53af5a76a458"
   },
   "outputs": [
    {
     "data": {
      "text/html": [
       "\n",
       "  <div id=\"df-f2d1c1e2-1a67-4ebb-8d63-d0c23b762af0\">\n",
       "    <div class=\"colab-df-container\">\n",
       "      <div>\n",
       "<style scoped>\n",
       "    .dataframe tbody tr th:only-of-type {\n",
       "        vertical-align: middle;\n",
       "    }\n",
       "\n",
       "    .dataframe tbody tr th {\n",
       "        vertical-align: top;\n",
       "    }\n",
       "\n",
       "    .dataframe thead th {\n",
       "        text-align: right;\n",
       "    }\n",
       "</style>\n",
       "<table border=\"1\" class=\"dataframe\">\n",
       "  <thead>\n",
       "    <tr style=\"text-align: right;\">\n",
       "      <th></th>\n",
       "      <th>0</th>\n",
       "      <th>1</th>\n",
       "      <th>2</th>\n",
       "      <th>3</th>\n",
       "      <th>4</th>\n",
       "      <th>5</th>\n",
       "      <th>6</th>\n",
       "      <th>7</th>\n",
       "      <th>8</th>\n",
       "      <th>9</th>\n",
       "    </tr>\n",
       "  </thead>\n",
       "  <tbody>\n",
       "    <tr>\n",
       "      <th>840</th>\n",
       "      <td>1950.0</td>\n",
       "      <td>1.0</td>\n",
       "      <td>-0.449840</td>\n",
       "      <td>0.059407</td>\n",
       "      <td>0.058413</td>\n",
       "      <td>0.000450</td>\n",
       "      <td>0.000544</td>\n",
       "      <td>1.350910</td>\n",
       "      <td>1.109221</td>\n",
       "      <td>0.241689</td>\n",
       "    </tr>\n",
       "    <tr>\n",
       "      <th>841</th>\n",
       "      <td>1950.0</td>\n",
       "      <td>2.0</td>\n",
       "      <td>-0.987553</td>\n",
       "      <td>0.044901</td>\n",
       "      <td>0.043903</td>\n",
       "      <td>0.000450</td>\n",
       "      <td>0.000549</td>\n",
       "      <td>1.273497</td>\n",
       "      <td>1.063967</td>\n",
       "      <td>0.209530</td>\n",
       "    </tr>\n",
       "    <tr>\n",
       "      <th>842</th>\n",
       "      <td>1950.0</td>\n",
       "      <td>3.0</td>\n",
       "      <td>0.115493</td>\n",
       "      <td>0.001512</td>\n",
       "      <td>0.000526</td>\n",
       "      <td>0.000450</td>\n",
       "      <td>0.000536</td>\n",
       "      <td>0.847723</td>\n",
       "      <td>0.824788</td>\n",
       "      <td>0.022935</td>\n",
       "    </tr>\n",
       "    <tr>\n",
       "      <th>843</th>\n",
       "      <td>1950.0</td>\n",
       "      <td>4.0</td>\n",
       "      <td>-0.561057</td>\n",
       "      <td>0.011338</td>\n",
       "      <td>0.010404</td>\n",
       "      <td>0.000450</td>\n",
       "      <td>0.000484</td>\n",
       "      <td>0.895149</td>\n",
       "      <td>0.793148</td>\n",
       "      <td>0.102001</td>\n",
       "    </tr>\n",
       "    <tr>\n",
       "      <th>844</th>\n",
       "      <td>1950.0</td>\n",
       "      <td>5.0</td>\n",
       "      <td>-0.555887</td>\n",
       "      <td>0.004508</td>\n",
       "      <td>0.003587</td>\n",
       "      <td>0.000450</td>\n",
       "      <td>0.000471</td>\n",
       "      <td>0.509163</td>\n",
       "      <td>0.449268</td>\n",
       "      <td>0.059895</td>\n",
       "    </tr>\n",
       "    <tr>\n",
       "      <th>...</th>\n",
       "      <td>...</td>\n",
       "      <td>...</td>\n",
       "      <td>...</td>\n",
       "      <td>...</td>\n",
       "      <td>...</td>\n",
       "      <td>...</td>\n",
       "      <td>...</td>\n",
       "      <td>...</td>\n",
       "      <td>...</td>\n",
       "      <td>...</td>\n",
       "    </tr>\n",
       "    <tr>\n",
       "      <th>1687</th>\n",
       "      <td>2020.0</td>\n",
       "      <td>8.0</td>\n",
       "      <td>1.593928</td>\n",
       "      <td>0.023480</td>\n",
       "      <td>0.021551</td>\n",
       "      <td>0.000064</td>\n",
       "      <td>0.001865</td>\n",
       "      <td>0.366534</td>\n",
       "      <td>0.243894</td>\n",
       "      <td>0.122640</td>\n",
       "    </tr>\n",
       "    <tr>\n",
       "      <th>1688</th>\n",
       "      <td>2020.0</td>\n",
       "      <td>9.0</td>\n",
       "      <td>1.765897</td>\n",
       "      <td>0.007860</td>\n",
       "      <td>0.005479</td>\n",
       "      <td>0.000064</td>\n",
       "      <td>0.002317</td>\n",
       "      <td>0.436454</td>\n",
       "      <td>0.401759</td>\n",
       "      <td>0.034696</td>\n",
       "    </tr>\n",
       "    <tr>\n",
       "      <th>1689</th>\n",
       "      <td>2020.0</td>\n",
       "      <td>10.0</td>\n",
       "      <td>2.057197</td>\n",
       "      <td>0.066049</td>\n",
       "      <td>0.063939</td>\n",
       "      <td>0.000064</td>\n",
       "      <td>0.002046</td>\n",
       "      <td>0.623070</td>\n",
       "      <td>0.299442</td>\n",
       "      <td>0.323628</td>\n",
       "    </tr>\n",
       "    <tr>\n",
       "      <th>1690</th>\n",
       "      <td>2020.0</td>\n",
       "      <td>11.0</td>\n",
       "      <td>3.372409</td>\n",
       "      <td>0.149071</td>\n",
       "      <td>0.147338</td>\n",
       "      <td>0.000064</td>\n",
       "      <td>0.001669</td>\n",
       "      <td>0.977138</td>\n",
       "      <td>0.525470</td>\n",
       "      <td>0.451667</td>\n",
       "    </tr>\n",
       "    <tr>\n",
       "      <th>1691</th>\n",
       "      <td>2020.0</td>\n",
       "      <td>12.0</td>\n",
       "      <td>2.151871</td>\n",
       "      <td>0.009274</td>\n",
       "      <td>0.007609</td>\n",
       "      <td>0.000064</td>\n",
       "      <td>0.001601</td>\n",
       "      <td>0.724324</td>\n",
       "      <td>0.671166</td>\n",
       "      <td>0.053158</td>\n",
       "    </tr>\n",
       "  </tbody>\n",
       "</table>\n",
       "<p>852 rows × 10 columns</p>\n",
       "</div>\n",
       "      <button class=\"colab-df-convert\" onclick=\"convertToInteractive('df-f2d1c1e2-1a67-4ebb-8d63-d0c23b762af0')\"\n",
       "              title=\"Convert this dataframe to an interactive table.\"\n",
       "              style=\"display:none;\">\n",
       "        \n",
       "  <svg xmlns=\"http://www.w3.org/2000/svg\" height=\"24px\"viewBox=\"0 0 24 24\"\n",
       "       width=\"24px\">\n",
       "    <path d=\"M0 0h24v24H0V0z\" fill=\"none\"/>\n",
       "    <path d=\"M18.56 5.44l.94 2.06.94-2.06 2.06-.94-2.06-.94-.94-2.06-.94 2.06-2.06.94zm-11 1L8.5 8.5l.94-2.06 2.06-.94-2.06-.94L8.5 2.5l-.94 2.06-2.06.94zm10 10l.94 2.06.94-2.06 2.06-.94-2.06-.94-.94-2.06-.94 2.06-2.06.94z\"/><path d=\"M17.41 7.96l-1.37-1.37c-.4-.4-.92-.59-1.43-.59-.52 0-1.04.2-1.43.59L10.3 9.45l-7.72 7.72c-.78.78-.78 2.05 0 2.83L4 21.41c.39.39.9.59 1.41.59.51 0 1.02-.2 1.41-.59l7.78-7.78 2.81-2.81c.8-.78.8-2.07 0-2.86zM5.41 20L4 18.59l7.72-7.72 1.47 1.35L5.41 20z\"/>\n",
       "  </svg>\n",
       "      </button>\n",
       "      \n",
       "  <style>\n",
       "    .colab-df-container {\n",
       "      display:flex;\n",
       "      flex-wrap:wrap;\n",
       "      gap: 12px;\n",
       "    }\n",
       "\n",
       "    .colab-df-convert {\n",
       "      background-color: #E8F0FE;\n",
       "      border: none;\n",
       "      border-radius: 50%;\n",
       "      cursor: pointer;\n",
       "      display: none;\n",
       "      fill: #1967D2;\n",
       "      height: 32px;\n",
       "      padding: 0 0 0 0;\n",
       "      width: 32px;\n",
       "    }\n",
       "\n",
       "    .colab-df-convert:hover {\n",
       "      background-color: #E2EBFA;\n",
       "      box-shadow: 0px 1px 2px rgba(60, 64, 67, 0.3), 0px 1px 3px 1px rgba(60, 64, 67, 0.15);\n",
       "      fill: #174EA6;\n",
       "    }\n",
       "\n",
       "    [theme=dark] .colab-df-convert {\n",
       "      background-color: #3B4455;\n",
       "      fill: #D2E3FC;\n",
       "    }\n",
       "\n",
       "    [theme=dark] .colab-df-convert:hover {\n",
       "      background-color: #434B5C;\n",
       "      box-shadow: 0px 1px 3px 1px rgba(0, 0, 0, 0.15);\n",
       "      filter: drop-shadow(0px 1px 2px rgba(0, 0, 0, 0.3));\n",
       "      fill: #FFFFFF;\n",
       "    }\n",
       "  </style>\n",
       "\n",
       "      <script>\n",
       "        const buttonEl =\n",
       "          document.querySelector('#df-f2d1c1e2-1a67-4ebb-8d63-d0c23b762af0 button.colab-df-convert');\n",
       "        buttonEl.style.display =\n",
       "          google.colab.kernel.accessAllowed ? 'block' : 'none';\n",
       "\n",
       "        async function convertToInteractive(key) {\n",
       "          const element = document.querySelector('#df-f2d1c1e2-1a67-4ebb-8d63-d0c23b762af0');\n",
       "          const dataTable =\n",
       "            await google.colab.kernel.invokeFunction('convertToInteractive',\n",
       "                                                     [key], {});\n",
       "          if (!dataTable) return;\n",
       "\n",
       "          const docLinkHtml = 'Like what you see? Visit the ' +\n",
       "            '<a target=\"_blank\" href=https://colab.research.google.com/notebooks/data_table.ipynb>data table notebook</a>'\n",
       "            + ' to learn more about interactive tables.';\n",
       "          element.innerHTML = '';\n",
       "          dataTable['output_type'] = 'display_data';\n",
       "          await google.colab.output.renderOutput(dataTable, element);\n",
       "          const docLink = document.createElement('div');\n",
       "          docLink.innerHTML = docLinkHtml;\n",
       "          element.appendChild(docLink);\n",
       "        }\n",
       "      </script>\n",
       "    </div>\n",
       "  </div>\n",
       "  "
      ],
      "text/plain": [
       "           0     1         2         3         4         5         6  \\\n",
       "840   1950.0   1.0 -0.449840  0.059407  0.058413  0.000450  0.000544   \n",
       "841   1950.0   2.0 -0.987553  0.044901  0.043903  0.000450  0.000549   \n",
       "842   1950.0   3.0  0.115493  0.001512  0.000526  0.000450  0.000536   \n",
       "843   1950.0   4.0 -0.561057  0.011338  0.010404  0.000450  0.000484   \n",
       "844   1950.0   5.0 -0.555887  0.004508  0.003587  0.000450  0.000471   \n",
       "...      ...   ...       ...       ...       ...       ...       ...   \n",
       "1687  2020.0   8.0  1.593928  0.023480  0.021551  0.000064  0.001865   \n",
       "1688  2020.0   9.0  1.765897  0.007860  0.005479  0.000064  0.002317   \n",
       "1689  2020.0  10.0  2.057197  0.066049  0.063939  0.000064  0.002046   \n",
       "1690  2020.0  11.0  3.372409  0.149071  0.147338  0.000064  0.001669   \n",
       "1691  2020.0  12.0  2.151871  0.009274  0.007609  0.000064  0.001601   \n",
       "\n",
       "             7         8         9  \n",
       "840   1.350910  1.109221  0.241689  \n",
       "841   1.273497  1.063967  0.209530  \n",
       "842   0.847723  0.824788  0.022935  \n",
       "843   0.895149  0.793148  0.102001  \n",
       "844   0.509163  0.449268  0.059895  \n",
       "...        ...       ...       ...  \n",
       "1687  0.366534  0.243894  0.122640  \n",
       "1688  0.436454  0.401759  0.034696  \n",
       "1689  0.623070  0.299442  0.323628  \n",
       "1690  0.977138  0.525470  0.451667  \n",
       "1691  0.724324  0.671166  0.053158  \n",
       "\n",
       "[852 rows x 10 columns]"
      ]
     },
     "execution_count": 3,
     "metadata": {},
     "output_type": "execute_result"
    }
   ],
   "source": [
    "## select the time period to look at, including the indices needed to subset the data\n",
    "nyrs = 141                    # number of years, 141 will have you end in 2020\n",
    "ind_months_start = 70*12;     # month index to start.  \n",
    "\n",
    "## Note: since python is 0 based, selecting 0 gives you the index for \n",
    "  ##the first value in the dataset (January 1880)\n",
    "ind_months_end   = nyrs*12;   # month index to end.\n",
    "lst = uploaded['aravg.mon.land_ocean.60N.90N.v5.0.0.202112.asc'].decode(encoding=\"utf-8\", errors=\"strict\").split('\\n');\n",
    "### open a Pandas data frame called \"d\" with the data only in the time period we selected above\n",
    "d   = pd.Series(lst).str.split(expand=True).astype(float)[ind_months_start:ind_months_end];\n",
    "d"
   ]
  },
  {
   "cell_type": "markdown",
   "metadata": {
    "id": "SoSqyT-g5mMT"
   },
   "source": [
    "####**Question 1 (10p)**: Write code to print the shape of your data frame.  Write code to print the first years worth of Arctic temperature anomaly values.  Write code to calculate how many months and how many years are in your dataset."
   ]
  },
  {
   "cell_type": "code",
   "execution_count": 4,
   "metadata": {
    "colab": {
     "base_uri": "https://localhost:8080/"
    },
    "id": "rzobLFdC5Z6S",
    "outputId": "b6395526-cdf3-46e7-c0d6-91b858a25c31"
   },
   "outputs": [
    {
     "name": "stdout",
     "output_type": "stream",
     "text": [
      "(852, 10)\n",
      "840   -0.449840\n",
      "841   -0.987553\n",
      "842    0.115493\n",
      "843   -0.561057\n",
      "844   -0.555887\n",
      "845   -0.310551\n",
      "846   -0.764961\n",
      "847   -0.397572\n",
      "848    0.011776\n",
      "849    0.371474\n",
      "850   -0.264546\n",
      "851    0.432114\n",
      "Name: 2, dtype: float64\n",
      "The number of months is (852,)\n",
      "The number of years is 71.0\n"
     ]
    }
   ],
   "source": [
    "### put your code here ###\n",
    "\n",
    "# print the shape of d\n",
    "print(d.shape) \n",
    "\n",
    "# print the first year (i.e., the first 12 months) Arctic temperature anomalies\n",
    "print(d[0:12][2])\n",
    "\n",
    "# Calculate how many months and years are in your dataset.\n",
    "print(f'The number of months is {d[:][2].shape}')\n",
    "print(f'The number of years is {np.round((len(d[:][2])/12))}')"
   ]
  },
  {
   "cell_type": "markdown",
   "metadata": {
    "id": "dejpzT_17yOT"
   },
   "source": [
    "**STEP 4: We're ready for data science calculations.  Let's go!**"
   ]
  },
  {
   "cell_type": "markdown",
   "metadata": {
    "id": "ym6nSiKK73oE"
   },
   "source": [
    "####**Question 2 (10p)**: Write code to calculate the annual mean from the monthly mean data.  \n",
    "Check your calculation by printing the shape and the values.\n",
    "\n"
   ]
  },
  {
   "cell_type": "code",
   "execution_count": 5,
   "metadata": {
    "colab": {
     "base_uri": "https://localhost:8080/"
    },
    "id": "m6FfYtzJ58-f",
    "outputId": "7bf1cb0c-f437-42e6-852d-432cf1ae1eef"
   },
   "outputs": [
    {
     "name": "stdout",
     "output_type": "stream",
     "text": [
      "(71, 10)\n",
      "0\n",
      "1950.0   -0.280093\n",
      "1951.0   -0.188805\n",
      "1952.0   -0.380118\n",
      "1953.0    0.488755\n",
      "1954.0    0.231666\n",
      "            ...   \n",
      "2016.0    2.115133\n",
      "2017.0    1.769208\n",
      "2018.0    1.362012\n",
      "2019.0    1.912878\n",
      "2020.0    2.031738\n",
      "Name: 2, Length: 71, dtype: float64\n",
      "             0    1         2         3         4         5         6  \\\n",
      "0                                                                       \n",
      "1950.0  1950.0  6.5 -0.280093  0.028734  0.027755  0.000450  0.000529   \n",
      "1951.0  1951.0  6.5 -0.188805  0.035955  0.035022  0.000390  0.000543   \n",
      "1952.0  1952.0  6.5 -0.380118  0.028491  0.027593  0.000321  0.000578   \n",
      "1953.0  1953.0  6.5  0.488755  0.043145  0.042288  0.000250  0.000608   \n",
      "1954.0  1954.0  6.5  0.231666  0.047179  0.046333  0.000208  0.000639   \n",
      "...        ...  ...       ...       ...       ...       ...       ...   \n",
      "2016.0  2016.0  6.5  2.115133  0.062433  0.060648  0.000064  0.001720   \n",
      "2017.0  2017.0  6.5  1.769208  0.062433  0.060648  0.000064  0.001720   \n",
      "2018.0  2018.0  6.5  1.362012  0.062433  0.060648  0.000064  0.001720   \n",
      "2019.0  2019.0  6.5  1.912878  0.062433  0.060648  0.000064  0.001720   \n",
      "2020.0  2020.0  6.5  2.031738  0.062433  0.060648  0.000064  0.001720   \n",
      "\n",
      "              7         8         9  \n",
      "0                                    \n",
      "1950.0  0.73067  0.663003  0.121430  \n",
      "1951.0  0.73067  0.644038  0.140506  \n",
      "1952.0  0.73067  0.639247  0.124671  \n",
      "1953.0  0.73067  0.637229  0.150961  \n",
      "1954.0  0.73067  0.621560  0.163855  \n",
      "...         ...       ...       ...  \n",
      "2016.0  0.73067  0.599372  0.225110  \n",
      "2017.0  0.73067  0.593670  0.234486  \n",
      "2018.0  0.73067  0.587621  0.242475  \n",
      "2019.0  0.73067  0.579844  0.244842  \n",
      "2020.0  0.73067  0.573804  0.232920  \n",
      "\n",
      "[71 rows x 10 columns]\n"
     ]
    }
   ],
   "source": [
    "### put your code here ###\n",
    "\n",
    "## calculate the annual mean (d_yr) from the monthly mean (d)\n",
    "d_yr = d.groupby(d[0][:]).mean()\n",
    "\n",
    "## print the shape of the annual mean.  should be [nyrs,10]\n",
    "print(d_yr.shape)\n",
    "\n",
    "# print the annual mean temperature anomaly values\n",
    "print(d_yr[2])\n",
    "\n",
    "print(d_yr)\n"
   ]
  },
  {
   "cell_type": "markdown",
   "metadata": {
    "id": "rsIJP5wH9Wpl"
   },
   "source": [
    "####**Question 3 (10p)**: Make a timeseries plot of the annual mean data and the monthly mean data.\n",
    "Label your x-axes, y-axes, and the title of the plot."
   ]
  },
  {
   "cell_type": "code",
   "execution_count": 7,
   "metadata": {
    "colab": {
     "base_uri": "https://localhost:8080/"
    },
    "id": "M91AiNDn9zsM",
    "outputId": "77ca0c08-aacb-4e04-a26d-673521bb7602"
   },
   "outputs": [
    {
     "name": "stdout",
     "output_type": "stream",
     "text": [
      "(852, 10)\n",
      "(852,)\n",
      "840     1950.041667\n",
      "841     1950.125000\n",
      "842     1950.208333\n",
      "843     1950.291667\n",
      "844     1950.375000\n",
      "           ...     \n",
      "1687    2020.625000\n",
      "1688    2020.708333\n",
      "1689    2020.791667\n",
      "1690    2020.875000\n",
      "1691    2020.958333\n",
      "Length: 852, dtype: float64\n",
      "           0     1         2         3         4         5         6  \\\n",
      "840   1950.0   1.0 -0.449840  0.059407  0.058413  0.000450  0.000544   \n",
      "841   1950.0   2.0 -0.987553  0.044901  0.043903  0.000450  0.000549   \n",
      "842   1950.0   3.0  0.115493  0.001512  0.000526  0.000450  0.000536   \n",
      "843   1950.0   4.0 -0.561057  0.011338  0.010404  0.000450  0.000484   \n",
      "844   1950.0   5.0 -0.555887  0.004508  0.003587  0.000450  0.000471   \n",
      "...      ...   ...       ...       ...       ...       ...       ...   \n",
      "1687  2020.0   8.0  1.593928  0.023480  0.021551  0.000064  0.001865   \n",
      "1688  2020.0   9.0  1.765897  0.007860  0.005479  0.000064  0.002317   \n",
      "1689  2020.0  10.0  2.057197  0.066049  0.063939  0.000064  0.002046   \n",
      "1690  2020.0  11.0  3.372409  0.149071  0.147338  0.000064  0.001669   \n",
      "1691  2020.0  12.0  2.151871  0.009274  0.007609  0.000064  0.001601   \n",
      "\n",
      "             7         8         9  \n",
      "840   1.350910  1.109221  0.241689  \n",
      "841   1.273497  1.063967  0.209530  \n",
      "842   0.847723  0.824788  0.022935  \n",
      "843   0.895149  0.793148  0.102001  \n",
      "844   0.509163  0.449268  0.059895  \n",
      "...        ...       ...       ...  \n",
      "1687  0.366534  0.243894  0.122640  \n",
      "1688  0.436454  0.401759  0.034696  \n",
      "1689  0.623070  0.299442  0.323628  \n",
      "1690  0.977138  0.525470  0.451667  \n",
      "1691  0.724324  0.671166  0.053158  \n",
      "\n",
      "[852 rows x 10 columns]\n"
     ]
    }
   ],
   "source": [
    "##Before we plot - Let's create a time axis in years (one value per month, each value in the middle of the month).\n",
    "timemo = d[0][:] + (1/24)+((d[1][:]-1)*1/12)\n",
    "print(d.shape)\n",
    "print(timemo.shape)\n",
    "print(timemo)\n",
    "print(d)"
   ]
  },
  {
   "cell_type": "code",
   "execution_count": 10,
   "metadata": {
    "colab": {
     "base_uri": "https://localhost:8080/",
     "height": 353
    },
    "id": "ZF9t4-Dp70ru",
    "outputId": "85235ea1-0020-427f-e788-742a6e93f361"
   },
   "outputs": [
    {
     "data": {
      "image/png": "[encoded data removed]",
      "text/plain": [
       "<Figure size 720x360 with 1 Axes>"
      ]
     },
     "metadata": {
      "needs_background": "light"
     },
     "output_type": "display_data"
    }
   ],
   "source": [
    "### put your code here ###\n",
    "\n",
    "## define a function to plot the data (data in input should have the same format as d)\n",
    "def plot_data(timemo,d,xlab):\n",
    "  plt.close()\n",
    "  plt.figure(figsize=(10,5))\n",
    "  plt.plot(timemo,d[2], color = 'black')\n",
    "  # show title, labels, grid\n",
    "  font = {'family': 'Sans',\n",
    "  'color': 'black', 'weight': 'normal', 'size': 12,}\n",
    "  plt.title('Arctic Annual Mean Surface Temperatures', fontdict = font) \n",
    "  plt.xlabel(xlab, fontdict = font)\n",
    "  plt.ylabel('Temperature anomaly, $^\\circ$C', fontdict = font)\n",
    "  plt.grid()\n",
    "\n",
    "## call the function to plot the monthly data\n",
    "plot_data(timemo,d,'Year')\n",
    "\n",
    "## call the function to plot the annual mean data\n",
    "plt.plot(d_yr[0],d_yr[2], color = 'red');"
   ]
  },
  {
   "cell_type": "markdown",
   "metadata": {
    "id": "8PlrzU5K-d1J"
   },
   "source": [
    "####**Question 4 (10p)**: Make a histogram of the annual mean and the monthly mean anomalies"
   ]
  },
  {
   "cell_type": "code",
   "execution_count": 25,
   "metadata": {
    "colab": {
     "base_uri": "https://localhost:8080/",
     "height": 786
    },
    "id": "tku9I_Pc-MhU",
    "outputId": "d764ec45-817c-45a2-f3e6-e5810f1fb2e5"
   },
   "outputs": [
    {
     "name": "stdout",
     "output_type": "stream",
     "text": [
      "[-4.  -3.5 -3.  -2.5 -2.  -1.5 -1.  -0.5  0.   0.5  1.   1.5  2.   2.5\n",
      "  3.   3.5  4. ]\n"
     ]
    },
    {
     "name": "stderr",
     "output_type": "stream",
     "text": [
      "/usr/local/lib/python3.7/dist-packages/ipykernel_launcher.py:24: DeprecationWarning: `np.int` is a deprecated alias for the builtin `int`. To silence this warning, use `int` by itself. Doing this will not modify any behavior and is safe. When replacing `np.int`, you may wish to use e.g. `np.int64` or `np.int32` to specify the precision. If you wish to review your current use, check the release note link for additional information.\n",
      "Deprecated in NumPy 1.20; for more details and guidance: https://numpy.org/devdocs/release/1.20.0-notes.html#deprecations\n"
     ]
    },
    {
     "data": {
      "image/png": "[encoded data removed]",
      "text/plain": [
       "<Figure size 720x360 with 1 Axes>"
      ]
     },
     "metadata": {
      "needs_background": "light"
     },
     "output_type": "display_data"
    },
    {
     "data": {
      "image/png": "[encoded data removed]",
      "text/plain": [
       "<Figure size 720x360 with 1 Axes>"
      ]
     },
     "metadata": {
      "needs_background": "light"
     },
     "output_type": "display_data"
    }
   ],
   "source": [
    "### put your code here ###\n",
    "\n",
    "## define bins for the histogram, from -4 to 4 with a bin size of 0.5\n",
    "delta= .5                               ## bin size\n",
    "minbin=-4.0                             ## minimum bin value\n",
    "maxbin=4.5                              ## maximum bin value\n",
    "hist_bins = np.arange(minbin,maxbin,delta) ## bins, orders the bins\n",
    "\n",
    "#delta= 1.0                               ## bin size\n",
    "#minbin=-4.0                             ## minimum bin value\n",
    "#maxbin=5.0                              ## maximum bin value\n",
    "#hist_bins = np.arange(minbin,maxbin,delta) ## bins\n",
    "\n",
    "\n",
    "## print your histograms to check they go from -4 to 4 with a bin size of 0.5\n",
    "print(hist_bins)\n",
    "\n",
    "## define a function to plot a histogram of the data (data in input should have the same format as d)\n",
    "def plot_data_hist(d,hist_bins):\n",
    "  h, mids = np.histogram(d[2],bins=hist_bins)\n",
    "  plt.figure(figsize=(10,5))\n",
    "  plt.hist(d[2],bins=mids,facecolor='w',edgecolor=\"k\") \n",
    "  font = {'family': 'Sans','color': 'black', 'weight': 'normal', 'size': 12,}\n",
    "  plt.title('Histogram of '+f\"{np.int(min(d[0][:]))}\"+'-'+f\"{np.int(max(d[0][:]))}\"+' Arctic Surface Temp. Anomaly', \n",
    "            fontdict = font) \n",
    "  plt.xlabel('anomaly, $^\\circ$C', fontdict = font) \n",
    "  plt.ylabel(\"Number of instances\", fontdict = font)\n",
    "\n",
    "# call the function and make a plot the monthly mean\n",
    "plot_data_hist(d,hist_bins)\n",
    "\n",
    "# call the function and make a plot the yearly mean\n",
    "plot_data_hist(d_yr,hist_bins)"
   ]
  },
  {
   "cell_type": "markdown",
   "metadata": {
    "id": "dBf0wDFo_30H"
   },
   "source": [
    "####**Question 5 (10p)**: Write 2-3 sentences to compare the histograms.\n",
    "Does the annual mean or the monthly mean have a broader distribution?\n",
    "Why?\n",
    "\n",
    "How do these histograms for the Arctic differ from those you plotted for the \n",
    "global mean in application lab #1?"
   ]
  },
  {
   "cell_type": "markdown",
   "metadata": {
    "id": "4Yxd98AuAJbc"
   },
   "source": [
    "**Answer**: The monthly mean histogram is broader than the annual mean histogram because the annual mean averages more data than the monthly mean.  When you average more data, the mean value gets smaller.  When compared to the global temperature anomaly histograms plotted in application lab #1, these Arctic temperature anomaly histograms are broader.  These broader Arctic histograms indicate larger departures from the mean for Arctic temperature anomalies than for global temperature anomalies."
   ]
  },
  {
   "cell_type": "markdown",
   "metadata": {
    "id": "Ai8Z8A5RFUOG"
   },
   "source": [
    "####**Question 6 (10p)**: Standardize your data (the annual mean values) and call the variable \"d_stdzd_yr\""
   ]
  },
  {
   "cell_type": "code",
   "execution_count": null,
   "metadata": {
    "colab": {
     "base_uri": "https://localhost:8080/"
    },
    "id": "4ZxBTh-VFYvK",
    "outputId": "edfe4490-b626-4c9e-9c48-81c836c8e3ec"
   },
   "outputs": [
    {
     "name": "stdout",
     "output_type": "stream",
     "text": [
      "(71,)\n",
      "Mean of standardized data : -0.000 degC\n",
      "Standard Deviation of standardized data : 1.000 degC\n"
     ]
    }
   ],
   "source": [
    "### write your code here ###\n",
    "\n",
    "## standardize the annual mean data\n",
    "d_stdzd_yr = (d_yr[2]-d_yr[2].mean())/d_yr[2].std()\n",
    "\n",
    "## print the shape of the standardized data\n",
    "print(d_stdzd_yr.shape)\n",
    "\n",
    "## print the mean and the standard deviation, they should be 0 and 1 respectively\n",
    "print('Mean of standardized data : ' + f\"{d_stdzd_yr.mean():.3f}\" + ' degC')\n",
    "print('Standard Deviation of standardized data : ' + f\"{d_stdzd_yr.std():.3f}\" + ' degC')\n"
   ]
  },
  {
   "cell_type": "markdown",
   "metadata": {
    "id": "zK4UhkY2BCB4"
   },
   "source": [
    "####**Question 7 (10p)**: Calculate the 95% confidence intervals to compare the first 40 years of annual mean values with the last 40 years of annual mean values.  *(Hint: Print the length of the arrays containing the first and the last 40 years of data to check your coding...)*. What statistic are you using (t or z) and why? Are the two periods different?"
   ]
  },
  {
   "cell_type": "markdown",
   "metadata": {
    "id": "9x_4pkzxdJIp"
   },
   "source": [
    "**Answer**: Here I am using the z-statistic because my dataset is big (N>30).  The confidence intervals between the two periods do not overlap. Thus, I conclude that sample1 and sample2 are statistically different at the 95% confidence level."
   ]
  },
  {
   "cell_type": "code",
   "execution_count": null,
   "metadata": {
    "colab": {
     "base_uri": "https://localhost:8080/"
    },
    "id": "VmGu4bu2FuaG",
    "outputId": "7e6cf7f7-a507-4820-cc4c-b74178526184"
   },
   "outputs": [
    {
     "name": "stdout",
     "output_type": "stream",
     "text": [
      "(71, 2)\n"
     ]
    }
   ],
   "source": [
    "### write your code here ###\n",
    "\n",
    "## create a pandas data frame with just the year and the temperature\n",
    "df = pd.DataFrame({'Year':d_yr[0],'T_anom':d_stdzd_yr})\n",
    "print(df.shape)\n",
    "#df ## uncomment me to look at your data frame "
   ]
  },
  {
   "cell_type": "code",
   "execution_count": null,
   "metadata": {
    "colab": {
     "base_uri": "https://localhost:8080/"
    },
    "id": "QaEa-WHj_eB9",
    "outputId": "8cffe54e-cfee-428e-effd-06f4e19c7e2c"
   },
   "outputs": [
    {
     "name": "stdout",
     "output_type": "stream",
     "text": [
      "(40, 2)\n",
      "(40, 2)\n",
      "-0.65\n",
      "0.5\n",
      "0.57\n",
      "0.93\n"
     ]
    }
   ],
   "source": [
    "### write your code here ###\n",
    "\n",
    "## calculate the sample mean and standardard deviation for the first 40 years\n",
    "## call the output \"sample1\"\n",
    "minyear=1950\n",
    "maxyear=1989\n",
    "sample1=df[(df[\"Year\"]>(minyear-1)) & (df[\"Year\"]<(maxyear+1))];\n",
    "\n",
    "## calculate the sample mean and standardard deviation for the last 40 years\n",
    "## call the output \"sample2\"\n",
    "minyear=1981\n",
    "maxyear=2020\n",
    "sample2=df[(df[\"Year\"]>(minyear-1)) & (df[\"Year\"]<(maxyear+1))];\n",
    "\n",
    "## check the shapes of sample1, sample2 - are they what you expect?\n",
    "print(sample1.shape)\n",
    "print(sample2.shape)\n",
    "\n",
    "## calculate the mean and standard deviation of sample1, sample2\n",
    "sample1_mean=sample1['T_anom'].mean()\n",
    "print(np.round(sample1_mean,2))\n",
    "sample1_std=sample1['T_anom'].std()\n",
    "print(np.round(sample1_std,2))\n",
    "N1=sample1.shape[0]\n",
    "sample2_mean=sample2['T_anom'].mean()\n",
    "print(np.round(sample2_mean,2))\n",
    "sample2_std=sample2['T_anom'].std()\n",
    "print(np.round(sample2_std,2))\n",
    "N2=sample2.shape[0]\n"
   ]
  },
  {
   "cell_type": "code",
   "execution_count": null,
   "metadata": {
    "colab": {
     "base_uri": "https://localhost:8080/"
    },
    "id": "xOmM0lHEGHrO",
    "outputId": "4b7b99db-745f-4000-ef18-57964be7ba01"
   },
   "outputs": [
    {
     "name": "stdout",
     "output_type": "stream",
     "text": [
      "CONFIDENCE INTERVALS USING Z-STATISTIC\n",
      "The sample mean is -0.65\n",
      "The sample standard deviation is 0.5\n",
      "N=40\n",
      "The 95% confidence interval on the true mean is   -0.81 and -0.49\n",
      "CONFIDENCE INTERVALS USING Z-STATISTIC\n",
      "The sample mean is 0.57\n",
      "The sample standard deviation is 0.93\n",
      "N=40\n",
      "The 95% confidence interval on the true mean is   0.28 and 0.86\n"
     ]
    }
   ],
   "source": [
    "## Define a function to calculate the 95% confidence limits\n",
    "def zstat(sample_mean,sample_std,N):\n",
    "  print('CONFIDENCE INTERVALS USING Z-STATISTIC')\n",
    "  print(f'The sample mean is {np.round(sample_mean,2)}')\n",
    "  print(f'The sample standard deviation is {np.round(sample_std,2)}')\n",
    "  print(f'N={N}')\n",
    "  ## Note: Python calculates left/lower-tail probabilities by default, \n",
    "  ## so for the 95% confidence interval, use 0.975\n",
    "  zstat95=stats.norm.ppf(0.975)\n",
    "  low_limit95=sample_mean-zstat95*(sample_std/np.sqrt(N))\n",
    "  high_limit95=sample_mean+zstat95*(sample_std/np.sqrt(N))\n",
    "\n",
    "  print(f'The 95% confidence interval on the true mean is \\\n",
    "  {np.round(low_limit95,2)} and {np.round(high_limit95,2)}')\n",
    "\n",
    "## execute the function to find the confidence intervals\n",
    "zstat(sample1_mean,sample1_std,N1)\n",
    "zstat(sample2_mean,sample2_std,N2)\n"
   ]
  },
  {
   "cell_type": "markdown",
   "metadata": {
    "id": "ZuoKa82nHEYP"
   },
   "source": [
    "####**Question 8 (20p)**: Let's do some bootstrapping... Let's say your friend suspects that the fact that it was warmer than usual temperatures in the Arctic over the last 20 years just happened by chance.  First, complete the coding to undertake a bootstrapping analysis to address your friend's suspicion. Then, explain in 3-5 sentences what you have done and why you are confident that the last 20 years of warm anomalies in the Arctic didn't happen by chance. Include the distribution assumptions that are made.  \n",
    "\n",
    "\n",
    "*Note: You can work with either the standardized or the non-standardized data - but you need to stay consistent. \n",
    "The provided calculations use the non-standardized data (numpy array = data).*"
   ]
  },
  {
   "cell_type": "markdown",
   "metadata": {
    "id": "fcaevSysyk9J"
   },
   "source": [
    "**Answer**: The histogram of bootstrapped values shows what you might expect to get by chance by randomly selecting values of Arctic temperature anomalies.  The temperature anomaly in the Arctic for the last 20 years is well outside of the bootstrapped distribution suggesting that it is very unlikely that the value occurred by chance.  Thus, the last 20 years have been warmer in the Arctic than they were historically."
   ]
  },
  {
   "cell_type": "code",
   "execution_count": null,
   "metadata": {
    "colab": {
     "base_uri": "https://localhost:8080/"
    },
    "id": "6sB4Slq_iCP-",
    "outputId": "def99c2e-62a0-4728-d200-499325e92bf5"
   },
   "outputs": [
    {
     "name": "stdout",
     "output_type": "stream",
     "text": [
      "(71, 10)\n",
      "<class 'pandas.core.frame.DataFrame'>\n",
      "<class 'numpy.ndarray'>\n",
      "(71, 10)\n",
      "The mean Arctic temperature anomaly (deg C) is 0.25\n"
     ]
    }
   ],
   "source": [
    "### First - we'll convert from a pandas array to a numpy array.\n",
    "### Google to find out the difference between a pandas data frame and a numpy array...\n",
    "print(d_yr.shape)\n",
    "print(type(d_yr))\n",
    "d_yr_numpy=d_yr.to_numpy(dtype=object)\n",
    "print(type(d_yr_numpy))\n",
    "print(d_yr_numpy.shape)\n",
    "data=d_yr_numpy[:,2]\n",
    "#print(data.shape)\n",
    "#print(data)\n",
    "print(f'The mean Arctic temperature anomaly (deg C) is {np.round(np.mean(data),2)}')"
   ]
  },
  {
   "cell_type": "code",
   "execution_count": null,
   "metadata": {
    "colab": {
     "base_uri": "https://localhost:8080/"
    },
    "id": "xFgxZ8HRzLru",
    "outputId": "a7b676b1-8b04-4aff-e582-2a8505c14e18"
   },
   "outputs": [
    {
     "name": "stdout",
     "output_type": "stream",
     "text": [
      "(20,)\n",
      "[0.6210705 0.6859864999999999 1.1250264166666666 0.31171\n",
      " 1.3424789166666666 0.8815274999999999 1.4048908333333332\n",
      " 0.9823127500000001 0.66217525 1.3125238333333333 1.4665075833333334\n",
      " 1.16669375 0.9632525 1.2784437499999999 1.3448650000000002 2.1151325\n",
      " 1.769208 1.3620118333333335 1.9128782500000001 2.0317385]\n",
      "1.2370217083333332\n"
     ]
    }
   ],
   "source": [
    "## calculate the mean of the last 20 years and call it \"mean_last20\"\n",
    "\n",
    "### put your code here ###\n",
    "#mean_last20=\n",
    "\n",
    "### this is the non-standardized data\n",
    "#print(data)\n",
    "print(data[-20:].shape)\n",
    "print(data[-20:])\n",
    "mean_last20=np.mean(data[-20:])\n",
    "print(mean_last20)\n",
    "\n",
    "### You can work with either the standardized or the non-standardized data - \n",
    "## but you need to stay consistent. \n",
    "## This notebook uses the non-standardized data.\n",
    "## This calculation is for the the standardized data. \n",
    "#last20 = df[(df[\"Year\"]>(2000)) & (df[\"Year\"]<(2021))];\n",
    "#print(len(last20))\n",
    "#mean_last20 = last20['T_anom'].mean()\n",
    "#print(mean_last20)\n",
    "#print(last20)"
   ]
  },
  {
   "cell_type": "code",
   "execution_count": null,
   "metadata": {
    "colab": {
     "base_uri": "https://localhost:8080/"
    },
    "id": "Ysr304FghrCz",
    "outputId": "183675c2-86c9-44d2-f0e1-6560c7ef11d3"
   },
   "outputs": [
    {
     "name": "stdout",
     "output_type": "stream",
     "text": [
      "The mean of the bootstrapped distribution is 0.22760392843666669\n",
      "The min of the bootstrapped distribution is -0.3493054958333334\n",
      "The max of the bootstrapped distribution is 0.9550380458333333\n"
     ]
    }
   ],
   "source": [
    "## Here's the bootstrapping\n",
    "## Randomly grab 20 years from the data and take the mean \n",
    "## Repeat this random grab 25000 times to build up a distribution of sample means with N=20\n",
    "\n",
    "sample_length = 20\n",
    "sample_means = []\n",
    "N_iterations=25000\n",
    "for j in np.arange(0,N_iterations):\n",
    "    ir = stats.randint.rvs(0,len(data)-1,size = sample_length)\n",
    "    #print(data[ir])\n",
    "    sample_means.append(data[ir].mean())\n",
    "    #print(ir)\n",
    "    #print(ir.shape)\n",
    "    #print(data[ir].mean())\n",
    "\n",
    "print(f'The mean of the bootstrapped distribution is {np.mean(sample_means)}')\n",
    "print(f'The min of the bootstrapped distribution is {np.min(sample_means)}')\n",
    "print(f'The max of the bootstrapped distribution is {np.max(sample_means)}')"
   ]
  },
  {
   "cell_type": "code",
   "execution_count": null,
   "metadata": {
    "colab": {
     "base_uri": "https://localhost:8080/"
    },
    "id": "K4-GKMENu6lf",
    "outputId": "0fd4a2cf-9393-4fae-cce2-c297378c102a"
   },
   "outputs": [
    {
     "name": "stdout",
     "output_type": "stream",
     "text": [
      "[1.3448650000000002 -0.5719960833333334 0.050588583333333326\n",
      " 0.17558700000000002 1.3125238333333333 0.17972283333333336\n",
      " 0.9300104166666667 -0.436568 -0.1966894166666667 0.9823127500000001\n",
      " -0.09731125 -0.7920393333333333 -0.6621848333333333 -0.5436995\n",
      " 0.17558700000000002 0.23166558333333334 -1.0682896666666666\n",
      " 0.8815274999999999 -0.7808000833333333 0.23166558333333334]\n",
      "[65  5 25 48 60 39 45 18 13 58 23 22 15 24 48  4 16 56 29  4]\n",
      "(20,)\n",
      "0.06732389583333337\n",
      "[0.36477241666666665 0.005620583333333336 0.9823127500000001\n",
      " -0.10169966666666665 0.9823127500000001 0.23166558333333334 0.6210705\n",
      " -0.05023416666666666 0.23166558333333334 0.19565741666666667\n",
      " -0.3801175833333333 0.36477241666666665 0.4887551666666667\n",
      " 1.3620118333333335 0.21161383333333336 0.23166558333333334\n",
      " 0.6859864999999999 0.9632525 -0.4011328333333333 -0.05023416666666666]\n",
      "[38 33 58 36 58  4 51 44  4 12  2 38  3 68 46  4 52 63 21 44]\n",
      "(20,)\n",
      "0.34698585000000004\n",
      "The mean of the bootstrapped distribution is 0.2071548729166667\n",
      "The min of the bootstrapped distribution is 0.06732389583333337\n",
      "The max of the bootstrapped distribution is 0.34698585000000004\n"
     ]
    }
   ],
   "source": [
    "## To Sanity Check My Code\n",
    "## Set N_iterations to 2 and uncomment the print statements.\n",
    "## Does it all make sense?\n",
    "\n",
    "### put your code here ###\n",
    "sample_length = 20\n",
    "sample_means_test = []\n",
    "N_iterations=2\n",
    "for j in np.arange(0,N_iterations):\n",
    "    ir = stats.randint.rvs(0,len(data)-1,size = sample_length)\n",
    "    print(data[ir])\n",
    "    sample_means_test.append(data[ir].mean())\n",
    "    print(ir)\n",
    "    print(ir.shape)\n",
    "    print(data[ir].mean())\n",
    "\n",
    "print(f'The mean of the bootstrapped distribution is {np.mean(sample_means_test)}')\n",
    "print(f'The min of the bootstrapped distribution is {np.min(sample_means_test)}')\n",
    "print(f'The max of the bootstrapped distribution is {np.max(sample_means_test)}')\n"
   ]
  },
  {
   "cell_type": "code",
   "execution_count": null,
   "metadata": {
    "colab": {
     "base_uri": "https://localhost:8080/",
     "height": 353
    },
    "id": "JYtfRg6OHFSm",
    "outputId": "7c23a006-fa41-4ab9-90b3-56ec44debc5c"
   },
   "outputs": [
    {
     "data": {
      "image/png": "[encoded data removed]",
      "text/plain": [
       "<Figure size 720x360 with 1 Axes>"
      ]
     },
     "metadata": {
      "needs_background": "light"
     },
     "output_type": "display_data"
    }
   ],
   "source": [
    "### Plot a histogram of the bootstrapped means.\n",
    "### This distribution of bootstrapped means shows the probability of any particular mean happening by chance\n",
    "### based on the data that we have...\n",
    "\n",
    "### put your code here ###\n",
    "## define bins for the histogram, from -2 to 2 with a bin size of 0.1\n",
    "delta= .1                              ## bin size\n",
    "minbin=-2.0                            ## minimum bin value\n",
    "maxbin=2.1                             ## maximum bin value\n",
    "hist_bins = np.arange(minbin,maxbin,delta) ## bins\n",
    "\n",
    "## print your histograms to check they go from -2 to 2 with a bin size of 0.1\n",
    "#print(hist_bins)\n",
    "\n",
    "## define a function to plot an histogram of the data (data in input should have the same format as sample_means)\n",
    "def plot_data_hist_numpy(sample_means,hist_bins):\n",
    "  h, mids = np.histogram(sample_means,bins=hist_bins)\n",
    "  plt.figure(figsize=(10,5))\n",
    "  plt.hist(sample_means,bins=hist_bins,facecolor='w',edgecolor=\"k\") \n",
    "  font = {'family': 'Sans','color': 'black', 'weight': 'normal', 'size': 12,}\n",
    "  plt.title('Histogram of Arctic Surface Temperature Anomaly', fontdict = font) \n",
    "  plt.xlabel('Arctic Temperature Anomaly (degrees C)', fontdict = font) \n",
    "  plt.ylabel(\"Number of instances\", fontdict = font)\n",
    "\n",
    "# call the function and make a plot the monthly mean\n",
    "plot_data_hist_numpy(sample_means,hist_bins)\n",
    "a1 = np.percentile(sample_means,2.5);\n",
    "a2 = np.percentile(sample_means,100.-2.5);\n",
    "plt.plot((a1,a1),(0,6000),'--',color = 'red', linewidth = 2, label = '95% confidence bounds');\n",
    "plt.plot((a2,a2),(0,6000),'--',color = 'red', linewidth = 2);\n",
    "plt.plot((mean_last20,mean_last20),(0,6000),'-',color = 'blue', linewidth = 2, label = 'mean last 20 (2001-2020)');\n",
    "plt.legend();"
   ]
  },
  {
   "cell_type": "markdown",
   "metadata": {
    "id": "8OFvxEUZHAZi"
   },
   "source": [
    "####**Question 9 (10p)**: Use the Python function stats.norm.cdf to calculate: What is the probability that z lies within 2 standard deviations of the mean?  In other words, what percentage of a normal distribution lies within 2 standard deviations of its mean? Describe how you are using the function to calculate the answer in 2-3 sentences."
   ]
  },
  {
   "cell_type": "code",
   "execution_count": null,
   "metadata": {
    "colab": {
     "base_uri": "https://localhost:8080/"
    },
    "id": "ueeLe7eWCal4",
    "outputId": "1b48a2bd-2c2c-4ef7-e42d-356e31e724c8"
   },
   "outputs": [
    {
     "name": "stdout",
     "output_type": "stream",
     "text": [
      "answer: 95.4 %\n"
     ]
    }
   ],
   "source": [
    "### your code here\n",
    "\n",
    "answer=stats.norm.cdf(2,loc=0,scale=1)-stats.norm.cdf(-2,loc=0,scale=1)\n",
    "print(f'answer: {np.round(answer*100,1)} %')"
   ]
  },
  {
   "cell_type": "markdown",
   "metadata": {
    "id": "Z0XaHD2mgNJq"
   },
   "source": [
    "**Answer**: The function (stats.norm.cdf) calculates the probabily that a value lies above/below a given number of standard deviations of the mean.  Since here we want the probability that the value falls within 2 standard deviations of the mean - we difference the function with a value of 2 and a value of -2.  We get 95.4%.  \n",
    "\n",
    "Another way to say this \"Subtracting the probability of less than -2 (stats.norm.cdf(2,loc=0,scale=1) from the probability of greater than 2 (stats.norm.cdf(-2,loc=0,scale=1)), the result is the percentage of values between -2 and 2.\""
   ]
  },
  {
   "cell_type": "code",
   "execution_count": null,
   "metadata": {
    "id": "WNo8Z19_L9xn"
   },
   "outputs": [],
   "source": []
  }
 ],
 "metadata": {
  "colab": {
   "collapsed_sections": [],
   "name": "ATOC4500_homework2_solutions.ipynb",
   "provenance": []
  },
  "kernelspec": {
   "display_name": "Python 3 (ipykernel)",
   "language": "python",
   "name": "python3"
  },
  "language_info": {
   "codemirror_mode": {
    "name": "ipython",
    "version": 3
   },
   "file_extension": ".py",
   "mimetype": "text/x-python",
   "name": "python",
   "nbconvert_exporter": "python",
   "pygments_lexer": "ipython3",
   "version": "3.8.13"
  }
 },
 "nbformat": 4,
 "nbformat_minor": 4
}
