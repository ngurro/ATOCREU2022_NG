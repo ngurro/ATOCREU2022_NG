{
 "cells": [
  {
   "cell_type": "code",
   "execution_count": 3,
   "id": "1e641600-c999-432a-a91e-422b4c90b57b",
   "metadata": {},
   "outputs": [],
   "source": [
    "# import functions needed\n",
    "import matplotlib.pyplot as plt\n",
    "import numpy as np\n",
    "import pandas as pd"
   ]
  },
  {
   "cell_type": "code",
   "execution_count": 8,
   "id": "feca5470-74f9-4bce-bfa9-dd5701cb281a",
   "metadata": {},
   "outputs": [
    {
     "data": {
      "text/plain": [
       "array([[ 1.880000e+03,  1.000000e+00, -2.676460e-01, ...,  1.350910e+00,\n",
       "         8.766690e-01,  4.742410e-01],\n",
       "       [ 1.880000e+03,  2.000000e+00,  4.748200e-02, ...,  1.273497e+00,\n",
       "         7.647160e-01,  5.087810e-01],\n",
       "       [ 1.880000e+03,  3.000000e+00, -3.750980e-01, ...,  8.477230e-01,\n",
       "         5.495000e-01,  2.982230e-01],\n",
       "       ...,\n",
       "       [ 2.021000e+03,  1.000000e+01,  2.157356e+00, ...,  6.230700e-01,\n",
       "         3.040080e-01,  3.190620e-01],\n",
       "       [ 2.021000e+03,  1.100000e+01,  1.730800e+00, ...,  9.771380e-01,\n",
       "         5.148340e-01,  4.623040e-01],\n",
       "       [ 2.021000e+03,  1.200000e+01,  3.585190e-01, ...,  7.243240e-01,\n",
       "         7.094580e-01,  1.500000e-02]])"
      ]
     },
     "execution_count": 8,
     "metadata": {},
     "output_type": "execute_result"
    }
   ],
   "source": [
    "ex = np.loadtxt(\"aravg.mon.land_ocean.60N.90N.v5.0.0.202112.asc\")\n",
    "ex"
   ]
  },
  {
   "cell_type": "code",
   "execution_count": 10,
   "id": "636c99c5-2b56-42b8-823d-ed433a42a766",
   "metadata": {},
   "outputs": [
    {
     "ename": "AttributeError",
     "evalue": "'list' object has no attribute 'decode'",
     "output_type": "error",
     "traceback": [
      "\u001b[0;31m---------------------------------------------------------------------------\u001b[0m",
      "\u001b[0;31mAttributeError\u001b[0m                            Traceback (most recent call last)",
      "Input \u001b[0;32mIn [10]\u001b[0m, in \u001b[0;36m<cell line: 8>\u001b[0;34m()\u001b[0m\n\u001b[1;32m      5\u001b[0m \u001b[38;5;66;03m## Note: since python is 0 based, selecting 0 gives you the index for \u001b[39;00m\n\u001b[1;32m      6\u001b[0m   \u001b[38;5;66;03m##the first value in the dataset (January 1880)\u001b[39;00m\n\u001b[1;32m      7\u001b[0m ind_months_end   \u001b[38;5;241m=\u001b[39m nyrs\u001b[38;5;241m*\u001b[39m\u001b[38;5;241m12\u001b[39m;   \u001b[38;5;66;03m# month index to end.\u001b[39;00m\n\u001b[0;32m----> 8\u001b[0m lst \u001b[38;5;241m=\u001b[39m \u001b[43m[\u001b[49m\u001b[38;5;124;43m'\u001b[39;49m\u001b[38;5;124;43maravg.mon.land_ocean.60N.90N.v5.0.0.202112.asc\u001b[39;49m\u001b[38;5;124;43m'\u001b[39;49m\u001b[43m]\u001b[49m\u001b[38;5;241;43m.\u001b[39;49m\u001b[43mdecode\u001b[49m(encoding\u001b[38;5;241m=\u001b[39m\u001b[38;5;124m\"\u001b[39m\u001b[38;5;124mutf-8\u001b[39m\u001b[38;5;124m\"\u001b[39m, errors\u001b[38;5;241m=\u001b[39m\u001b[38;5;124m\"\u001b[39m\u001b[38;5;124mstrict\u001b[39m\u001b[38;5;124m\"\u001b[39m)\u001b[38;5;241m.\u001b[39msplit(\u001b[38;5;124m'\u001b[39m\u001b[38;5;130;01m\\n\u001b[39;00m\u001b[38;5;124m'\u001b[39m);\n\u001b[1;32m      9\u001b[0m \u001b[38;5;66;03m### open a Pandas data frame called \"d\" with the data only in the time period we selected above\u001b[39;00m\n\u001b[1;32m     10\u001b[0m d   \u001b[38;5;241m=\u001b[39m pd\u001b[38;5;241m.\u001b[39mSeries(lst)\u001b[38;5;241m.\u001b[39mstr\u001b[38;5;241m.\u001b[39msplit(expand\u001b[38;5;241m=\u001b[39m\u001b[38;5;28;01mTrue\u001b[39;00m)\u001b[38;5;241m.\u001b[39mastype(\u001b[38;5;28mfloat\u001b[39m)[ind_months_start:ind_months_end];\n",
      "\u001b[0;31mAttributeError\u001b[0m: 'list' object has no attribute 'decode'"
     ]
    }
   ],
   "source": [
    "## select the time period to look at, including the indices needed to subset the data\n",
    "nyrs = 141                    # number of years, 141 will have you end in 2020\n",
    "ind_months_start = 70*12;     # month index to start.  \n",
    "\n",
    "## Note: since python is 0 based, selecting 0 gives you the index for \n",
    "  ##the first value in the dataset (January 1880)\n",
    "ind_months_end   = nyrs*12;   # month index to end.\n",
    "lst = ['aravg.mon.land_ocean.60N.90N.v5.0.0.202112.asc'].decode(encoding=\"utf-8\", errors=\"strict\").split('\\n');\n",
    "### open a Pandas data frame called \"d\" with the data only in the time period we selected above\n",
    "d   = pd.Series(lst).str.split(expand=True).astype(float)[ind_months_start:ind_months_end];\n",
    "d"
   ]
  },
  {
   "cell_type": "code",
   "execution_count": null,
   "id": "74d3026c-1252-4f35-a412-aa52b42836bc",
   "metadata": {},
   "outputs": [],
   "source": []
  }
 ],
 "metadata": {
  "kernelspec": {
   "display_name": "Python [conda env:pangeo] *",
   "language": "python",
   "name": "conda-env-pangeo-py"
  },
  "language_info": {
   "codemirror_mode": {
    "name": "ipython",
    "version": 3
   },
   "file_extension": ".py",
   "mimetype": "text/x-python",
   "name": "python",
   "nbconvert_exporter": "python",
   "pygments_lexer": "ipython3",
   "version": "3.8.13"
  }
 },
 "nbformat": 4,
 "nbformat_minor": 5
}
